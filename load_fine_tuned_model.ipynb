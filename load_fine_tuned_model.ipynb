{
 "cells": [
  {
   "cell_type": "markdown",
   "id": "b496a2ec-4cdf-43c8-91b9-39b19276e4d7",
   "metadata": {},
   "source": [
    "## **1. Load merged model**"
   ]
  },
  {
   "cell_type": "code",
   "execution_count": 1,
   "id": "6869ed22-29a2-4fca-a096-e383c117975c",
   "metadata": {},
   "outputs": [
    {
     "data": {
      "application/vnd.jupyter.widget-view+json": {
       "model_id": "ce16de934af643f1b50b770f82729a64",
       "version_major": 2,
       "version_minor": 0
      },
      "text/plain": [
       "Loading checkpoint shards:   0%|          | 0/3 [00:00<?, ?it/s]"
      ]
     },
     "metadata": {},
     "output_type": "display_data"
    }
   ],
   "source": [
    "from evaluate.generation_utils import load_model\n",
    "\n",
    "model, tokenizer = load_model(model_path=\"models/merged_models/Mistral-7B-v0.1-generate-domain_v1\")"
   ]
  },
  {
   "cell_type": "markdown",
   "id": "68e61e36-13e8-436b-9008-69ce12cc1781",
   "metadata": {},
   "source": [
    "## **2. Inference test**"
   ]
  },
  {
   "cell_type": "code",
   "execution_count": 4,
   "id": "dd6d1c56-5955-4281-9a9c-b635b806732c",
   "metadata": {},
   "outputs": [],
   "source": [
    "from evaluate.generation_utils import inference\n",
    "\n",
    "business_description = \"\"\"FitFusion is a fitness studio that offers a unique blend of yoga, Pilates, and dance classes.\n",
    "Their expert instructors design fusion workouts that cater to different fitness levels, from beginners to advanced practitioners.\n",
    "Their studios are equipped with state-of-the-art equipment and provide a serene atmosphere for members to relax and rejuvenate.\"\"\"\n",
    "\n",
    "result = inference(\n",
    "    model=model, \n",
    "    tokenizer=tokenizer,\n",
    "    business_description = business_description,\n",
    "    max_new_tokens = 10\n",
    ")"
   ]
  },
  {
   "cell_type": "markdown",
   "id": "0812e883-d70b-4ca2-a183-65f0cac06aa9",
   "metadata": {},
   "source": [
    "## **3. Some results**"
   ]
  },
  {
   "cell_type": "code",
   "execution_count": 5,
   "id": "7d96ab07-e5ec-4a33-84f6-39349e0d3c0e",
   "metadata": {},
   "outputs": [
    {
     "data": {
      "text/plain": [
       "{'business_description': 'FitFusion is a fitness studio that offers a unique blend of yoga, Pilates, and dance classes.\\nTheir expert instructors design fusion workouts that cater to different fitness levels, from beginners to advanced practitioners.\\nTheir studios are equipped with state-of-the-art equipment and provide a serene atmosphere for members to relax and rejuvenate.',\n",
       " 'generated_domain': 'yogadancefit.com',\n",
       " 'raw_generation': '\\nyogadancefit.com'}"
      ]
     },
     "execution_count": 5,
     "metadata": {},
     "output_type": "execute_result"
    }
   ],
   "source": [
    "result"
   ]
  },
  {
   "cell_type": "markdown",
   "id": "21398225-f982-41a5-99dd-6650fb54b4f2",
   "metadata": {},
   "source": [
    "## **4. Conclusion**"
   ]
  },
  {
   "cell_type": "markdown",
   "id": "b142e999-18e8-4e06-ae7b-1756ae34f1d6",
   "metadata": {},
   "source": [
    "The model loads successfully and inference works as expected on a simple example."
   ]
  }
 ],
 "metadata": {
  "kernelspec": {
   "display_name": "Python 3 (ipykernel)",
   "language": "python",
   "name": "python3"
  },
  "language_info": {
   "codemirror_mode": {
    "name": "ipython",
    "version": 3
   },
   "file_extension": ".py",
   "mimetype": "text/x-python",
   "name": "python",
   "nbconvert_exporter": "python",
   "pygments_lexer": "ipython3",
   "version": "3.11.2"
  }
 },
 "nbformat": 4,
 "nbformat_minor": 5
}
