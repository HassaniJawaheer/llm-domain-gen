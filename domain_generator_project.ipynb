{
 "cells": [
  {
   "cell_type": "markdown",
   "id": "53cd6d5f",
   "metadata": {},
   "source": [
    "# **Domain Generator — Business Dataset Creation** "
   ]
  },
  {
   "cell_type": "markdown",
   "id": "b754b424",
   "metadata": {},
   "source": [
    "## **Domain Dataset Generation (Groq API)**"
   ]
  },
  {
   "cell_type": "markdown",
   "id": "59bf01cb",
   "metadata": {},
   "source": [
    "To create the dataset, I used an Grop API that is free for now. I chose the LLaMA 3 70B model."
   ]
  },
  {
   "cell_type": "code",
   "execution_count": null,
   "id": "bba604ae",
   "metadata": {},
   "outputs": [],
   "source": [
    "from create_datasets.domain_dataset import DomainDataset\n",
    "\n",
    "generator = DomainDataset(from_scratch=False)\n",
    "generator.generate(n=5)"
   ]
  }
 ],
 "metadata": {
  "kernelspec": {
   "display_name": ".venv",
   "language": "python",
   "name": "python3"
  },
  "language_info": {
   "codemirror_mode": {
    "name": "ipython",
    "version": 3
   },
   "file_extension": ".py",
   "mimetype": "text/x-python",
   "name": "python",
   "nbconvert_exporter": "python",
   "pygments_lexer": "ipython3",
   "version": "3.11.2"
  }
 },
 "nbformat": 4,
 "nbformat_minor": 5
}
